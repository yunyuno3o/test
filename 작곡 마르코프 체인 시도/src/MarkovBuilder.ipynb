{
 "cells": [
  {
   "cell_type": "code",
   "execution_count": null,
   "metadata": {},
   "outputs": [],
   "source": [
    "'''\n",
    "Created on May 14, 2009\n",
    "\n",
    "@author: darkxanthos\n",
    "https://www.autoitscript.com/forum/topic/150415-generate-music-algorithmically/\n",
    "\n",
    "'''\n",
    "import random\n",
    "\n",
    "class MarkovBuilder:\n",
    "    def __init__(self, value_list):\n",
    "        self._values_added = 0\n",
    "        self._reverse_value_lookup = value_list\n",
    "        self._value_lookup = {}\n",
    "        for i in range(0, len(value_list)):\n",
    "            self._value_lookup[value_list[i]] = i\n",
    "        #Initialize our adjacency matrix with the initial\n",
    "        #probabilities for note transitions.\n",
    "        self._matrix=[[0 for x in range(0,len(value_list))] for i in range(0,len(value_list))]\n",
    "\n",
    "    def add(self, from_value, to_value):\n",
    "        \"\"\"Add a path from a note to another note. Re-adding a path between notes will increase the associated weight.\"\"\"\n",
    "        value = self._value_lookup\n",
    "        self._matrix[value[from_value]][value[to_value]] += 1\n",
    "        self._values_added = self._values_added + 1\n",
    "        \n",
    "    def next_value(self, from_value):\n",
    "        value = self._value_lookup[from_value]\n",
    "        value_counts = self._matrix[value]\n",
    "        value_index = self.randomly_choose(value_counts)\n",
    "        if(value_index < 0):\n",
    "            raise RuntimeError(\"Non-existent value selected.\")\n",
    "        else:\n",
    "            return self._reverse_value_lookup[value_index]\n",
    "            \n",
    "    def randomly_choose(self, choice_counts):\n",
    "        \"\"\"Given an array of counts, returns the index that was randomly chosen\"\"\"\n",
    "        counted_sum = 0\n",
    "        count_sum = sum(choice_counts)\n",
    "\n",
    "        if count_sum == 0:\n",
    "            return random.randint(0, len(choice_counts)-1)\n",
    "        else:\n",
    "            selected_count = random.randrange(1, count_sum + 1)\n",
    "            for index in range(0, len(choice_counts)):\n",
    "                counted_sum += choice_counts[index]\n",
    "                if(counted_sum >= selected_count):\n",
    "                    return index\n",
    "        raise RuntimeError(\"Impossible value selection made. BAD!\")"
   ]
  }
 ],
 "metadata": {
  "kernelspec": {
   "display_name": "Python 3",
   "language": "python",
   "name": "python3"
  },
  "language_info": {
   "codemirror_mode": {
    "name": "ipython",
    "version": 3
   },
   "file_extension": ".py",
   "mimetype": "text/x-python",
   "name": "python",
   "nbconvert_exporter": "python",
   "pygments_lexer": "ipython3",
   "version": "3.8.5"
  }
 },
 "nbformat": 4,
 "nbformat_minor": 4
}
